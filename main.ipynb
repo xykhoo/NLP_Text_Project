{
 "cells": [
  {
   "cell_type": "code",
   "execution_count": 25,
   "metadata": {},
   "outputs": [],
   "source": [
    "import numpy as np\n",
    "import os\n",
    "import requests\n",
    "from tqdm import tqdm\n",
    "import re"
   ]
  },
  {
   "cell_type": "code",
   "execution_count": 16,
   "metadata": {},
   "outputs": [],
   "source": [
    "# Install these packages if you don't already have them\n",
    "# !pip install sklearn torch tqdm nltk lazyme requests"
   ]
  },
  {
   "cell_type": "markdown",
   "metadata": {},
   "source": [
    "# Data Preparation"
   ]
  },
  {
   "cell_type": "code",
   "execution_count": 20,
   "metadata": {},
   "outputs": [],
   "source": [
    "# Data source:\n",
    "# https://raw.githubusercontent.com/alvations/Quotables/master/author-quote.txt\n",
    "fileName = \"author-quote.txt\"\n",
    "with open(fileName, encoding='utf8') as fin:\n",
    "    text = fin.readlines()"
   ]
  },
  {
   "cell_type": "code",
   "execution_count": 36,
   "metadata": {},
   "outputs": [],
   "source": [
    "authors = []\n",
    "quotes = []\n",
    "\n",
    "# Split the text into author and quotations\n",
    "# Removing the \\t and \\n in the encoding\n",
    "for lines in tqdm(text):\n",
    "    author, quote, _ = re.split('\\t|\\n', lines)\n",
    "    authors.append(author)\n",
    "    quotes.append(quote)"
   ]
  },
  {
   "cell_type": "code",
   "execution_count": 45,
   "metadata": {},
   "outputs": [
    {
     "name": "stderr",
     "output_type": "stream",
     "text": [
      "100%|██████████████████████████████████████████████████████████████████████████| 36165/36165 [00:15<00:00, 2316.55it/s]\n"
     ]
    }
   ],
   "source": [
    "# Tokenised full text into sentences\n",
    "from nltk import sent_tokenize, word_tokenize\n",
    "from gensim.corpora import Dictionary\n",
    "\n",
    "tokenized_quotes = []\n",
    "\n",
    "for quote in tqdm(quotes):\n",
    "    tokenized_text = [list(map(str.lower, word_tokenize(sent))) for sent in sent_tokenize(quote)]\n",
    "    tokenized_quotes.append(tokenized_text)"
   ]
  }
 ],
 "metadata": {
  "kernelspec": {
   "display_name": "Python 3",
   "language": "python",
   "name": "python3"
  },
  "language_info": {
   "codemirror_mode": {
    "name": "ipython",
    "version": 3
   },
   "file_extension": ".py",
   "mimetype": "text/x-python",
   "name": "python",
   "nbconvert_exporter": "python",
   "pygments_lexer": "ipython3",
   "version": "3.7.2"
  }
 },
 "nbformat": 4,
 "nbformat_minor": 2
}
